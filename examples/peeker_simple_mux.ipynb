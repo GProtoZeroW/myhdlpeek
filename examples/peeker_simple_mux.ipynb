{
 "cells": [
  {
   "cell_type": "markdown",
   "metadata": {
    "toc": true
   },
   "source": [
    "<h1>Table of Contents<span class=\"tocSkip\"></span></h1>\n",
    "<div class=\"toc\"><ul class=\"toc-item\"><li><span><a href=\"#A-Simple-Multiplexer-Example\" data-toc-modified-id=\"A-Simple-Multiplexer-Example-1\"><span class=\"toc-item-num\">1&nbsp;&nbsp;</span>A Simple Multiplexer Example</a></span></li></ul></div>"
   ]
  },
  {
   "cell_type": "markdown",
   "metadata": {},
   "source": [
    "# A Simple Multiplexer Example\n",
    "\n",
    "This example shows how to use the `myhdlpeek` module to monitor the inputs and output of a simple, two-input multiplexer."
   ]
  },
  {
   "cell_type": "code",
   "execution_count": 1,
   "metadata": {
    "ExecuteTime": {
     "end_time": "2020-12-12T18:12:54.293170Z",
     "start_time": "2020-12-12T18:12:53.194772Z"
    }
   },
   "outputs": [
    {
     "name": "stdout",
     "output_type": "stream",
     "text": [
      "t  z a b sel\n",
      "1  5 6 5 False\n",
      "2  3 4 3 False\n",
      "3  0 0 4 1\n",
      "4  1 5 1 0\n",
      "5  4 4 4 1\n",
      "6  5 3 5 0\n",
      "7  6 5 6 0\n",
      "8  2 5 2 0\n"
     ]
    },
    {
     "name": "stderr",
     "output_type": "stream",
     "text": [
      "<class 'myhdl.StopSimulation'>: No more events\n"
     ]
    },
    {
     "data": {
      "image/png": "[encoded data removed]",
      "text/plain": [
       "<Figure size 252x144 with 4 Axes>"
      ]
     },
     "metadata": {
      "needs_background": "light"
     },
     "output_type": "display_data"
    }
   ],
   "source": [
    "from myhdl import *\n",
    "from myhdlpeek import Peeker  # Import the myhdlpeeker module.\n",
    "\n",
    "def mux(z, a, b, sel):\n",
    "    \"\"\"A simple multiplexer.\"\"\"\n",
    "\n",
    "    @always_comb\n",
    "    def mux_logic():\n",
    "        if sel == 1:\n",
    "            z.next = a  # Signal a sent to mux output when sel is high.\n",
    "        else:\n",
    "            z.next = b  # Signal b sent to mux output when sel is low.\n",
    "           \n",
    "    return mux_logic\n",
    "\n",
    "# Create some signals to attach to the multiplexer.\n",
    "a, b, z = [Signal(0) for _ in range(3)]  # Integer signals for the inputs & output.\n",
    "sel = Signal(bool(0))                    # Binary signal for the selector.\n",
    "\n",
    "# Create some Peekers to monitor the multiplexer I/Os.\n",
    "Peeker.clear()         # Clear any existing Peekers. (Start with a clean slate.)\n",
    "Peeker(a, 'a')         # Add a Peeker to the a input.\n",
    "Peeker(b, 'b')         # Add a Peeker to the b input.\n",
    "Peeker(z, 'z')         # Add a peeker to the z output.\n",
    "Peeker(sel, 'select')  # Add a Peeker to the select input. The Peeker label doesn't have to match the signal name.\n",
    "\n",
    "# Instantiate mux.\n",
    "mux_1 = mux(z, a, b, sel)\n",
    "\n",
    "# Create a simple testbed to apply random patterns to the multiplexer.\n",
    "from random import randrange\n",
    "def test():\n",
    "    '''Simple testbed generator that applies random inputs to the multiplexer.'''\n",
    "    print(\"t  z a b sel\")\n",
    "    for _ in range(8):\n",
    "        a.next, b.next, sel.next = randrange(8), randrange(8), randrange(2)\n",
    "        yield delay(1)\n",
    "        print(\"%d  %s %s %s %s\" % (now(), z, a, b, sel))\n",
    "\n",
    "# Simulate the multiplexer, testbed and the peekers.\n",
    "sim = Simulation(mux_1, test(), *Peeker.instances()).run()\n",
    "\n",
    "# Display the complete waveforms captured by all the Peekers. \n",
    "Peeker.show_waveforms()\n"
   ]
  },
  {
   "cell_type": "code",
   "execution_count": 2,
   "metadata": {
    "ExecuteTime": {
     "end_time": "2020-12-12T18:12:54.314389Z",
     "start_time": "2020-12-12T18:12:54.296227Z"
    }
   },
   "outputs": [
    {
     "data": {
      "text/plain": [
       "[Sample(time=0, value=False),\n",
       " Sample(time=2, value=1),\n",
       " Sample(time=3, value=0),\n",
       " Sample(time=4, value=1),\n",
       " Sample(time=5, value=0)]"
      ]
     },
     "execution_count": 2,
     "metadata": {},
     "output_type": "execute_result"
    }
   ],
   "source": [
    "Peeker._peekers.get('select').trace"
   ]
  }
 ],
 "metadata": {
  "kernelspec": {
   "display_name": "Python 3",
   "language": "python",
   "name": "python3"
  },
  "language_info": {
   "codemirror_mode": {
    "name": "ipython",
    "version": 3
   },
   "file_extension": ".py",
   "mimetype": "text/x-python",
   "name": "python",
   "nbconvert_exporter": "python",
   "pygments_lexer": "ipython3",
   "version": "3.8.6"
  },
  "toc": {
   "base_numbering": 1,
   "nav_menu": {},
   "number_sections": true,
   "sideBar": true,
   "skip_h1_title": false,
   "title_cell": "Table of Contents",
   "title_sidebar": "Contents",
   "toc_cell": true,
   "toc_position": {},
   "toc_section_display": true,
   "toc_window_display": false
  }
 },
 "nbformat": 4,
 "nbformat_minor": 2
}
