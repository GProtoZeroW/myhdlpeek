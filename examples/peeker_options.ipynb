{
 "cells": [
  {
   "cell_type": "markdown",
   "metadata": {},
   "source": [
    "# Peeker Options\n",
    "\n",
    "Once the simulation has run and all the peekers have gathered their signal traces, you can show the waveforms in various ways.\n",
    "The options that affect the waveform display will be illustrated using the hierarchical adder example shown below."
   ]
  },
  {
   "cell_type": "code",
   "execution_count": 1,
   "metadata": {},
   "outputs": [
    {
     "name": "stderr",
     "output_type": "stream",
     "text": [
      "<class 'myhdl.StopSimulation'>: No more events\n"
     ]
    },
    {
     "data": {
      "text/plain": [
       "0"
      ]
     },
     "execution_count": 1,
     "metadata": {},
     "output_type": "execute_result"
    }
   ],
   "source": [
    "from myhdl import *\n",
    "from myhdlpeek import Peeker\n",
    "\n",
    "def adder_bit(a, b, c_in, sum_, c_out):\n",
    "    '''Single bit adder.'''\n",
    "    @always_comb\n",
    "    def adder_logic():\n",
    "        sum_.next = a ^ b ^ c_in\n",
    "        c_out.next = (a & b) | (a & c_in) | (b & c_in)\n",
    "    \n",
    "    # Add some peekers to monitor the inputs and outputs.\n",
    "    Peeker(a, 'a')\n",
    "    Peeker(b, 'b')\n",
    "    Peeker(c_in, 'c_in')\n",
    "    Peeker(sum_, 'sum')\n",
    "    Peeker(c_out, 'c_out')\n",
    "    \n",
    "    return adder_logic\n",
    "\n",
    "def adder(a, b, sum_):\n",
    "    '''Connect single-bit adders to create a complete adder.'''\n",
    "    c = [Signal(bool(0)) for _ in range(len(a)+1)] # Carry signals between stages.\n",
    "    s = [Signal(bool(0)) for _ in range(len(a))] # Sum bit for each stage.\n",
    "    stages = []  # Storage for adder bit instances.\n",
    "    # Create the adder bits and connect them together.\n",
    "    for i in range(len(a)):\n",
    "        stages.append( adder_bit(a=a(i), b=b(i), sum_=s[i], c_in=c[i], c_out=c[i+1]) )\n",
    "    # Concatenate the sum bits and send them out on the sum_ output.\n",
    "    @always_comb\n",
    "    def make_sum():\n",
    "        sum_.next = ConcatSignal(*reversed(s))\n",
    "    return instances()  # Return all the adder stage instances.\n",
    "\n",
    "# Create signals for interfacing to the adder.\n",
    "a, b, sum_ = [Signal(intbv(0,0,8)) for _ in range(3)]\n",
    "\n",
    "# Clear-out any existing peeker stuff before instantiating the adder.\n",
    "Peeker.clear()\n",
    "\n",
    "# Instantiate the adder.\n",
    "add_1 = adder(a=a, b=b, sum_=sum_)\n",
    "\n",
    "# Create some more peekers to monitor the top-level buses.\n",
    "Peeker(a, 'a_bus')\n",
    "Peeker(b, 'b_bus')\n",
    "Peeker(sum_, 'sum_bus')\n",
    "\n",
    "# Create a testbench generator that applies random inputs to the adder.\n",
    "from random import randrange\n",
    "def test():\n",
    "    for _ in range(8):\n",
    "        a.next, b.next = randrange(0, a.max), randrange(0, a.max)\n",
    "        yield delay(1)\n",
    "\n",
    "# Simulate the adder, testbench and peekers.\n",
    "Simulation(add_1, test(), *Peeker.instances()).run()"
   ]
  },
  {
   "cell_type": "markdown",
   "metadata": {},
   "source": [
    "## Selecting Waveforms to Display\n",
    "\n",
    "By default, `to_wavedrom` shows all the captured waveforms. But you can also specify a subset of the waveforms for display:"
   ]
  },
  {
   "cell_type": "code",
   "execution_count": 2,
   "metadata": {},
   "outputs": [
    {
     "data": {
      "text/html": [
       "<div><script type=\"WaveDrom\">{\"signal\": [{\"name\": \"a_bus\", \"wave\": \"====.===\", \"data\": [\"4\", \"6\", \"4\", \"6\", \"2\", \"3\", \"0\"]}, {\"name\": \"b_bus\", \"wave\": \"=.======\", \"data\": [\"1\", \"0\", \"2\", \"3\", \"4\", \"2\", \"7\"]}, {\"name\": \"sum_bus\", \"wave\": \"========\", \"data\": [\"5\", \"7\", \"4\", \"0\", \"1\", \"6\", \"5\", \"7\"]}, {\"name\": \"sum[2]\", \"wave\": \"1..0.1..\"}, {\"name\": \"sum[1]\", \"wave\": \"010..101\"}, {\"name\": \"sum[0]\", \"wave\": \"1.0.101.\"}]}</script></div>"
      ]
     },
     "metadata": {},
     "output_type": "display_data"
    },
    {
     "data": {
      "text/html": [
       "\n",
       "<script src=\"http://wavedrom.com/skins/default.js\" type=\"text/javascript\"></script>\n",
       "<script src=\"http://wavedrom.com/wavedrom.min.js\" type=\"text/javascript\"></script>\n",
       "<body onload=\"WaveDrom.ProcessAll()\">\n",
       "    "
      ]
     },
     "metadata": {},
     "output_type": "display_data"
    },
    {
     "data": {
      "application/javascript": [
       "$.getScript(\"http://wavedrom.com/wavedrom.min.js\", function () {\n",
       "$.getScript(\"http://wavedrom.com/skins/default.js\", function () {\n",
       "WaveDrom.ProcessAll();});\n",
       "});\n"
      ]
     },
     "metadata": {},
     "output_type": "display_data"
    }
   ],
   "source": [
    "Peeker.to_wavedrom('a_bus', 'b_bus', 'sum_bus', 'sum[2]', 'sum[1]', 'sum[0]')"
   ]
  },
  {
   "cell_type": "markdown",
   "metadata": {},
   "source": [
    "If you don't like typing all those quotation marks, you can place multiple, space-separated peeker names inside a string:"
   ]
  },
  {
   "cell_type": "code",
   "execution_count": 3,
   "metadata": {},
   "outputs": [
    {
     "data": {
      "text/html": [
       "<div><script type=\"WaveDrom\">{\"signal\": [{\"name\": \"a_bus\", \"wave\": \"====.===\", \"data\": [\"4\", \"6\", \"4\", \"6\", \"2\", \"3\", \"0\"]}, {\"name\": \"b_bus\", \"wave\": \"=.======\", \"data\": [\"1\", \"0\", \"2\", \"3\", \"4\", \"2\", \"7\"]}, {\"name\": \"sum_bus\", \"wave\": \"========\", \"data\": [\"5\", \"7\", \"4\", \"0\", \"1\", \"6\", \"5\", \"7\"]}, {\"name\": \"sum[2]\", \"wave\": \"1..0.1..\"}, {\"name\": \"sum[1]\", \"wave\": \"010..101\"}, {\"name\": \"sum[0]\", \"wave\": \"1.0.101.\"}]}</script></div>"
      ]
     },
     "metadata": {},
     "output_type": "display_data"
    },
    {
     "data": {
      "text/html": [
       "\n",
       "<script src=\"http://wavedrom.com/skins/default.js\" type=\"text/javascript\"></script>\n",
       "<script src=\"http://wavedrom.com/wavedrom.min.js\" type=\"text/javascript\"></script>\n",
       "<body onload=\"WaveDrom.ProcessAll()\">\n",
       "    "
      ]
     },
     "metadata": {},
     "output_type": "display_data"
    },
    {
     "data": {
      "application/javascript": [
       "$.getScript(\"http://wavedrom.com/wavedrom.min.js\", function () {\n",
       "$.getScript(\"http://wavedrom.com/skins/default.js\", function () {\n",
       "WaveDrom.ProcessAll();});\n",
       "});\n"
      ]
     },
     "metadata": {},
     "output_type": "display_data"
    }
   ],
   "source": [
    "Peeker.to_wavedrom('a_bus b_bus sum_bus sum[2] sum[1] sum[0]')"
   ]
  },
  {
   "cell_type": "markdown",
   "metadata": {},
   "source": [
    "## Spacing the Waveforms\n",
    "\n",
    "If you want to place some space between the waveforms, just insert a string that doesn't match any peeker's name (I like to use a `|` character for that):"
   ]
  },
  {
   "cell_type": "code",
   "execution_count": 4,
   "metadata": {},
   "outputs": [
    {
     "data": {
      "text/html": [
       "<div><script type=\"WaveDrom\">{\"signal\": [{\"name\": \"a_bus\", \"wave\": \"====.===\", \"data\": [\"4\", \"6\", \"4\", \"6\", \"2\", \"3\", \"0\"]}, {\"name\": \"b_bus\", \"wave\": \"=.======\", \"data\": [\"1\", \"0\", \"2\", \"3\", \"4\", \"2\", \"7\"]}, {}, {\"name\": \"sum_bus\", \"wave\": \"========\", \"data\": [\"5\", \"7\", \"4\", \"0\", \"1\", \"6\", \"5\", \"7\"]}, {\"name\": \"sum[2]\", \"wave\": \"1..0.1..\"}, {\"name\": \"sum[1]\", \"wave\": \"010..101\"}, {\"name\": \"sum[0]\", \"wave\": \"1.0.101.\"}]}</script></div>"
      ]
     },
     "metadata": {},
     "output_type": "display_data"
    },
    {
     "data": {
      "text/html": [
       "\n",
       "<script src=\"http://wavedrom.com/skins/default.js\" type=\"text/javascript\"></script>\n",
       "<script src=\"http://wavedrom.com/wavedrom.min.js\" type=\"text/javascript\"></script>\n",
       "<body onload=\"WaveDrom.ProcessAll()\">\n",
       "    "
      ]
     },
     "metadata": {},
     "output_type": "display_data"
    },
    {
     "data": {
      "application/javascript": [
       "$.getScript(\"http://wavedrom.com/wavedrom.min.js\", function () {\n",
       "$.getScript(\"http://wavedrom.com/skins/default.js\", function () {\n",
       "WaveDrom.ProcessAll();});\n",
       "});\n"
      ]
     },
     "metadata": {},
     "output_type": "display_data"
    }
   ],
   "source": [
    "Peeker.to_wavedrom('a_bus b_bus | sum_bus sum[2] sum[1] sum[0]')"
   ]
  },
  {
   "cell_type": "markdown",
   "metadata": {},
   "source": [
    "## Specifying a Time Window\n",
    "\n",
    "To show only a segment of the waveforms, use the `start_time` and `stop_time` options:"
   ]
  },
  {
   "cell_type": "code",
   "execution_count": 5,
   "metadata": {},
   "outputs": [
    {
     "data": {
      "text/html": [
       "<div><script type=\"WaveDrom\">{\"signal\": [{\"name\": \"a_bus\", \"wave\": \"===........\", \"data\": [\"2\", \"3\", \"0\"]}, {\"name\": \"b_bus\", \"wave\": \"===........\", \"data\": [\"4\", \"2\", \"7\"]}, {}, {\"name\": \"sum_bus\", \"wave\": \"===........\", \"data\": [\"6\", \"5\", \"7\"]}, {\"name\": \"sum[2]\", \"wave\": \"1..........\"}, {\"name\": \"sum[1]\", \"wave\": \"101........\"}, {\"name\": \"sum[0]\", \"wave\": \"01.........\"}]}</script></div>"
      ]
     },
     "metadata": {},
     "output_type": "display_data"
    },
    {
     "data": {
      "text/html": [
       "\n",
       "<script src=\"http://wavedrom.com/skins/default.js\" type=\"text/javascript\"></script>\n",
       "<script src=\"http://wavedrom.com/wavedrom.min.js\" type=\"text/javascript\"></script>\n",
       "<body onload=\"WaveDrom.ProcessAll()\">\n",
       "    "
      ]
     },
     "metadata": {},
     "output_type": "display_data"
    },
    {
     "data": {
      "application/javascript": [
       "$.getScript(\"http://wavedrom.com/wavedrom.min.js\", function () {\n",
       "$.getScript(\"http://wavedrom.com/skins/default.js\", function () {\n",
       "WaveDrom.ProcessAll();});\n",
       "});\n"
      ]
     },
     "metadata": {},
     "output_type": "display_data"
    }
   ],
   "source": [
    "signals = 'a_bus b_bus | sum_bus sum[2] sum[1] sum[0]'\n",
    "Peeker.to_wavedrom(signals, start_time=5, stop_time=15)"
   ]
  },
  {
   "cell_type": "markdown",
   "metadata": {},
   "source": [
    "## Showing Cycle Times\n",
    "\n",
    "If it's hard to tell the interval covered by the waveforms, you can turn on the display of cycle times using the `tick` or `tock` options:"
   ]
  },
  {
   "cell_type": "code",
   "execution_count": 6,
   "metadata": {},
   "outputs": [
    {
     "data": {
      "text/html": [
       "<div><script type=\"WaveDrom\">{\"head\": {\"tock\": 5}, \"foot\": {\"tock\": 5}, \"signal\": [{\"name\": \"a_bus\", \"wave\": \"===........\", \"data\": [\"2\", \"3\", \"0\"]}, {\"name\": \"b_bus\", \"wave\": \"===........\", \"data\": [\"4\", \"2\", \"7\"]}, {}, {\"name\": \"sum_bus\", \"wave\": \"===........\", \"data\": [\"6\", \"5\", \"7\"]}, {\"name\": \"sum[2]\", \"wave\": \"1..........\"}, {\"name\": \"sum[1]\", \"wave\": \"101........\"}, {\"name\": \"sum[0]\", \"wave\": \"01.........\"}]}</script></div>"
      ]
     },
     "metadata": {},
     "output_type": "display_data"
    },
    {
     "data": {
      "text/html": [
       "\n",
       "<script src=\"http://wavedrom.com/skins/default.js\" type=\"text/javascript\"></script>\n",
       "<script src=\"http://wavedrom.com/wavedrom.min.js\" type=\"text/javascript\"></script>\n",
       "<body onload=\"WaveDrom.ProcessAll()\">\n",
       "    "
      ]
     },
     "metadata": {},
     "output_type": "display_data"
    },
    {
     "data": {
      "application/javascript": [
       "$.getScript(\"http://wavedrom.com/wavedrom.min.js\", function () {\n",
       "$.getScript(\"http://wavedrom.com/skins/default.js\", function () {\n",
       "WaveDrom.ProcessAll();});\n",
       "});\n"
      ]
     },
     "metadata": {},
     "output_type": "display_data"
    }
   ],
   "source": [
    "Peeker.to_wavedrom(signals, start_time=5, stop_time=15, tock=True)"
   ]
  },
  {
   "cell_type": "markdown",
   "metadata": {},
   "source": [
    "## Adding Titles and Captions\n",
    "\n",
    "You can also add a title and caption to your work:"
   ]
  },
  {
   "cell_type": "code",
   "execution_count": 7,
   "metadata": {},
   "outputs": [
    {
     "data": {
      "text/html": [
       "<div><script type=\"WaveDrom\">{\"head\": {\"text\": [\"tspan\", [\"tspan\", {\"fill\": \"blue\", \"font-weight\": \"bold\", \"font-size\": \"16\"}, \"Multi-Bit, Hierarchical Adder\"]], \"tock\": 5}, \"foot\": {\"text\": [\"tspan\", [\"tspan\", {\"font-style\": \"italic\"}, \"It really works!\"]], \"tock\": 5}, \"signal\": [{\"name\": \"a_bus\", \"wave\": \"===........\", \"data\": [\"2\", \"3\", \"0\"]}, {\"name\": \"b_bus\", \"wave\": \"===........\", \"data\": [\"4\", \"2\", \"7\"]}, {}, {\"name\": \"sum_bus\", \"wave\": \"===........\", \"data\": [\"6\", \"5\", \"7\"]}, {\"name\": \"sum[2]\", \"wave\": \"1..........\"}, {\"name\": \"sum[1]\", \"wave\": \"101........\"}, {\"name\": \"sum[0]\", \"wave\": \"01.........\"}]}</script></div>"
      ]
     },
     "metadata": {},
     "output_type": "display_data"
    },
    {
     "data": {
      "text/html": [
       "\n",
       "<script src=\"http://wavedrom.com/skins/default.js\" type=\"text/javascript\"></script>\n",
       "<script src=\"http://wavedrom.com/wavedrom.min.js\" type=\"text/javascript\"></script>\n",
       "<body onload=\"WaveDrom.ProcessAll()\">\n",
       "    "
      ]
     },
     "metadata": {},
     "output_type": "display_data"
    },
    {
     "data": {
      "application/javascript": [
       "$.getScript(\"http://wavedrom.com/wavedrom.min.js\", function () {\n",
       "$.getScript(\"http://wavedrom.com/skins/default.js\", function () {\n",
       "WaveDrom.ProcessAll();});\n",
       "});\n"
      ]
     },
     "metadata": {},
     "output_type": "display_data"
    }
   ],
   "source": [
    "Peeker.to_wavedrom(signals, start_time=5, stop_time=15, tock=True,\n",
    "                   title='Multi-Bit, Hierarchical Adder', caption='It really works!')"
   ]
  },
  {
   "cell_type": "markdown",
   "metadata": {},
   "source": [
    "## Setting the Display Size\n",
    "\n",
    "Possibly you have less screen real estate available. The `width` option lets you reduce the entire waveform display:"
   ]
  },
  {
   "cell_type": "code",
   "execution_count": 8,
   "metadata": {},
   "outputs": [
    {
     "data": {
      "text/html": [
       "<div style=\"width: 400px\"><script type=\"WaveDrom\">{\"head\": {\"text\": [\"tspan\", [\"tspan\", {\"fill\": \"blue\", \"font-weight\": \"bold\", \"font-size\": \"16\"}, \"Multi-Bit, Hierarchical Adder\"]], \"tock\": 5}, \"foot\": {\"text\": [\"tspan\", [\"tspan\", {\"font-style\": \"italic\"}, \"It reall works!\"]], \"tock\": 5}, \"signal\": [{\"name\": \"a_bus\", \"wave\": \"===........\", \"data\": [\"2\", \"3\", \"0\"]}, {\"name\": \"b_bus\", \"wave\": \"===........\", \"data\": [\"4\", \"2\", \"7\"]}, {}, {\"name\": \"sum_bus\", \"wave\": \"===........\", \"data\": [\"6\", \"5\", \"7\"]}, {\"name\": \"sum[2]\", \"wave\": \"1..........\"}, {\"name\": \"sum[1]\", \"wave\": \"101........\"}, {\"name\": \"sum[0]\", \"wave\": \"01.........\"}]}</script></div>"
      ]
     },
     "metadata": {},
     "output_type": "display_data"
    },
    {
     "data": {
      "text/html": [
       "\n",
       "<script src=\"http://wavedrom.com/skins/default.js\" type=\"text/javascript\"></script>\n",
       "<script src=\"http://wavedrom.com/wavedrom.min.js\" type=\"text/javascript\"></script>\n",
       "<body onload=\"WaveDrom.ProcessAll()\">\n",
       "    "
      ]
     },
     "metadata": {},
     "output_type": "display_data"
    },
    {
     "data": {
      "application/javascript": [
       "$.getScript(\"http://wavedrom.com/wavedrom.min.js\", function () {\n",
       "$.getScript(\"http://wavedrom.com/skins/default.js\", function () {\n",
       "WaveDrom.ProcessAll();});\n",
       "});\n"
      ]
     },
     "metadata": {},
     "output_type": "display_data"
    }
   ],
   "source": [
    "Peeker.to_wavedrom(signals, start_time=5, stop_time=15, tock=True,\n",
    "                   title='Multi-Bit, Hierarchical Adder', caption='It reall works!', width=400)"
   ]
  },
  {
   "cell_type": "markdown",
   "metadata": {},
   "source": [
    "## Accessing the WaveJSON Data\n",
    "\n",
    "Finally, you might want to get hold of the WaveJSON data directly to get more control over the waveform display. This is done with the `to_wavejson()` method:"
   ]
  },
  {
   "cell_type": "code",
   "execution_count": 9,
   "metadata": {},
   "outputs": [
    {
     "data": {
      "text/plain": [
       "{'signal': [{'data': ['4', '6', '4', '6', '2', '3', '0'],\n",
       "   'name': 'a_bus',\n",
       "   'wave': '====.==='},\n",
       "  {'data': ['1', '0', '2', '3', '4', '2', '7'],\n",
       "   'name': 'b_bus',\n",
       "   'wave': '=.======'},\n",
       "  {},\n",
       "  {'data': ['5', '7', '4', '0', '1', '6', '5', '7'],\n",
       "   'name': 'sum_bus',\n",
       "   'wave': '========'},\n",
       "  {'name': 'sum[2]', 'wave': '1..0.1..'},\n",
       "  {'name': 'sum[1]', 'wave': '010..101'},\n",
       "  {'name': 'sum[0]', 'wave': '1.0.101.'}]}"
      ]
     },
     "execution_count": 9,
     "metadata": {},
     "output_type": "execute_result"
    }
   ],
   "source": [
    "wavejson = Peeker.to_wavejson(signals)\n",
    "wavejson"
   ]
  },
  {
   "cell_type": "markdown",
   "metadata": {},
   "source": [
    "After you manipulate the WaveJSON data, you can display it using the `wavejson_to_wavedrom()` function:"
   ]
  },
  {
   "cell_type": "code",
   "execution_count": 10,
   "metadata": {},
   "outputs": [
    {
     "data": {
      "text/html": [
       "<div><script type=\"WaveDrom\">{\"signal\": [{\"name\": \"a_bus\", \"wave\": \"====.===\", \"data\": [\"4\", \"6\", \"4\", \"6\", \"2\", \"3\", \"0\"]}, {\"name\": \"b_bus\", \"wave\": \"=.======\", \"data\": [\"1\", \"0\", \"2\", \"3\", \"4\", \"2\", \"7\"]}, {}, {\"name\": \"sum_bus\", \"wave\": \"========\", \"data\": [\"5\", \"7\", \"4\", \"0\", \"1\", \"6\", \"5\", \"7\"]}, {\"name\": \"sum[2]\", \"wave\": \"1..0.1..\"}, {\"name\": \"sum[1]\", \"wave\": \"010..101\"}, {\"name\": \"sum[0]\", \"wave\": \"1.0.101.\"}]}</script></div>"
      ]
     },
     "metadata": {},
     "output_type": "display_data"
    },
    {
     "data": {
      "text/html": [
       "\n",
       "<script src=\"http://wavedrom.com/skins/default.js\" type=\"text/javascript\"></script>\n",
       "<script src=\"http://wavedrom.com/wavedrom.min.js\" type=\"text/javascript\"></script>\n",
       "<body onload=\"WaveDrom.ProcessAll()\">\n",
       "    "
      ]
     },
     "metadata": {},
     "output_type": "display_data"
    },
    {
     "data": {
      "application/javascript": [
       "$.getScript(\"http://wavedrom.com/wavedrom.min.js\", function () {\n",
       "$.getScript(\"http://wavedrom.com/skins/default.js\", function () {\n",
       "WaveDrom.ProcessAll();});\n",
       "});\n"
      ]
     },
     "metadata": {},
     "output_type": "display_data"
    }
   ],
   "source": [
    "from myhdlpeek import wavejson_to_wavedrom\n",
    "wavejson_to_wavedrom(wavejson)"
   ]
  },
  {
   "cell_type": "code",
   "execution_count": null,
   "metadata": {
    "collapsed": true
   },
   "outputs": [],
   "source": []
  }
 ],
 "metadata": {
  "kernelspec": {
   "display_name": "Python 3",
   "language": "python",
   "name": "python3"
  },
  "language_info": {
   "codemirror_mode": {
    "name": "ipython",
    "version": 3
   },
   "file_extension": ".py",
   "mimetype": "text/x-python",
   "name": "python",
   "nbconvert_exporter": "python",
   "pygments_lexer": "ipython3",
   "version": "3.5.2"
  }
 },
 "nbformat": 4,
 "nbformat_minor": 2
}
