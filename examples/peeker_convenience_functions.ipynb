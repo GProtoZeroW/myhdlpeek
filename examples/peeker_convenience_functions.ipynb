{
 "cells": [
  {
   "cell_type": "markdown",
   "metadata": {},
   "source": [
    "# Convenience Functions\n",
    "\n",
    "There are a few convenience functions for displaying trace waveforms and tables:\n",
    "\n",
    "* `clear_traces()` is equivalent to `Peeker.clear_traces()`\n",
    "* `show_waveforms(...)` is equivalent to `Peeker.to_wavedrom(...)`.\n",
    "* `show_text_table(...)` is equivalent to `Peeker.to_text_table(...)`.\n",
    "* `show_html_table(...)` is equivalent to `Peeker.to_html_table(...)`.\n"
   ]
  }
 ],
 "metadata": {
  "kernelspec": {
   "display_name": "Python 3",
   "language": "python",
   "name": "python3"
  },
  "language_info": {
   "codemirror_mode": {
    "name": "ipython",
    "version": 3
   },
   "file_extension": ".py",
   "mimetype": "text/x-python",
   "name": "python",
   "nbconvert_exporter": "python",
   "pygments_lexer": "ipython3",
   "version": "3.5.4"
  }
 },
 "nbformat": 4,
 "nbformat_minor": 2
}
