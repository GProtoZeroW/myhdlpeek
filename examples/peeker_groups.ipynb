{
 "cells": [
  {
   "cell_type": "markdown",
   "metadata": {},
   "source": [
    "# Peeker Groups\n",
    "\n",
    "`Peeker` objects are normally stored in a global list, but sometimes you might want\n",
    "to create a group of `Peeker`s for a set of signals.\n",
    "This is easily done using the `PeekerGroup` class.\n",
    "Once again, I'll use the hierarchical adder example to illustrate the use of `PeekerGroup`s."
   ]
  },
  {
   "cell_type": "code",
   "execution_count": 12,
   "metadata": {},
   "outputs": [
    {
     "name": "stderr",
     "output_type": "stream",
     "text": [
      "<class 'myhdl.StopSimulation'>: No more events\n"
     ]
    },
    {
     "data": {
      "text/html": [
       "<div><script type=\"WaveDrom\">{\"signal\": [{\"wave\": \"========\", \"data\": [\"1\", \"7\", \"3\", \"2\", \"0\", \"7\", \"4\", \"7\"], \"name\": \"a_bus\"}, {\"wave\": \"=.======\", \"data\": [\"7\", \"3\", \"6\", \"7\", \"4\", \"1\", \"2\"], \"name\": \"b_bus\"}, {\"wave\": \"==.=====\", \"data\": [\"0\", \"6\", \"0\", \"7\", \"3\", \"5\", \"1\"], \"name\": \"sum_bus\"}]}</script></div>"
      ]
     },
     "metadata": {},
     "output_type": "display_data"
    },
    {
     "data": {
      "application/javascript": [
       "$.getScript(\"http://wavedrom.com/wavedrom.min.js\", function () {\n",
       "$.getScript(\"http://wavedrom.com/skins/default.js\", function () {\n",
       "WaveDrom.ProcessAll();});\n",
       "});\n"
      ]
     },
     "metadata": {},
     "output_type": "display_data"
    },
    {
     "data": {
      "text/html": [
       "<table>\n",
       "<thead>\n",
       "<tr><th style=\"text-align: right;\">  Time</th><th style=\"text-align: right;\">  a_bus</th><th style=\"text-align: right;\">  b_bus</th><th style=\"text-align: right;\">  sum_bus</th></tr>\n",
       "</thead>\n",
       "<tbody>\n",
       "<tr><td style=\"text-align: right;\">     0</td><td style=\"text-align: right;\">      1</td><td style=\"text-align: right;\">      7</td><td style=\"text-align: right;\">        0</td></tr>\n",
       "<tr><td style=\"text-align: right;\">     1</td><td style=\"text-align: right;\">      7</td><td style=\"text-align: right;\">      7</td><td style=\"text-align: right;\">        6</td></tr>\n",
       "<tr><td style=\"text-align: right;\">     2</td><td style=\"text-align: right;\">      3</td><td style=\"text-align: right;\">      3</td><td style=\"text-align: right;\">        6</td></tr>\n",
       "<tr><td style=\"text-align: right;\">     3</td><td style=\"text-align: right;\">      2</td><td style=\"text-align: right;\">      6</td><td style=\"text-align: right;\">        0</td></tr>\n",
       "<tr><td style=\"text-align: right;\">     4</td><td style=\"text-align: right;\">      0</td><td style=\"text-align: right;\">      7</td><td style=\"text-align: right;\">        7</td></tr>\n",
       "<tr><td style=\"text-align: right;\">     5</td><td style=\"text-align: right;\">      7</td><td style=\"text-align: right;\">      4</td><td style=\"text-align: right;\">        3</td></tr>\n",
       "<tr><td style=\"text-align: right;\">     6</td><td style=\"text-align: right;\">      4</td><td style=\"text-align: right;\">      1</td><td style=\"text-align: right;\">        5</td></tr>\n",
       "<tr><td style=\"text-align: right;\">     7</td><td style=\"text-align: right;\">      7</td><td style=\"text-align: right;\">      2</td><td style=\"text-align: right;\">        1</td></tr>\n",
       "</tbody>\n",
       "</table>"
      ]
     },
     "metadata": {},
     "output_type": "display_data"
    }
   ],
   "source": [
    "from myhdl import *\n",
    "from myhdlpeek import PeekerGroup\n",
    "\n",
    "def adder_bit(a, b, c_in, sum_, c_out):\n",
    "    '''Single bit adder.'''\n",
    "    @always_comb\n",
    "    def adder_logic():\n",
    "        sum_.next = a ^ b ^ c_in\n",
    "        c_out.next = (a & b) | (a & c_in) | (b & c_in)\n",
    "    \n",
    "    # Add some global peekers to monitor the inputs and outputs.\n",
    "    Peeker(a, 'a')\n",
    "    Peeker(b, 'b')\n",
    "    Peeker(c_in, 'c_in')\n",
    "    Peeker(sum_, 'sum')\n",
    "    Peeker(c_out, 'c_out')\n",
    "    return adder_logic\n",
    "\n",
    "def adder(a, b, sum_):\n",
    "    '''Connect single-bit adders to create a complete adder.'''\n",
    "    c = [Signal(bool(0)) for _ in range(len(a)+1)] # Carry signals between stages.\n",
    "    s = [Signal(bool(0)) for _ in range(len(a))] # Sum bit for each stage.\n",
    "    stages = []  # Storage for adder bit instances.\n",
    "    # Create the adder bits and connect them together.\n",
    "    for i in range(len(a)):\n",
    "        stages.append( adder_bit(a=a(i), b=b(i), sum_=s[i], c_in=c[i], c_out=c[i+1]) )\n",
    "    # Concatenate the sum bits and send them out on the sum_ output.\n",
    "    @always_comb\n",
    "    def make_sum():\n",
    "        sum_.next = ConcatSignal(*reversed(s))\n",
    "    return instances()  # Return all the adder stage instances.\n",
    "\n",
    "# Create signals for interfacing to the adder.\n",
    "a, b, sum_ = [Signal(intbv(0,0,8)) for _ in range(3)]\n",
    "\n",
    "# Clear-out any existing peeker stuff before instantiating the adder.\n",
    "Peeker.clear()\n",
    "\n",
    "# Instantiate the adder.\n",
    "add_1 = adder(a=a, b=b, sum_=sum_)\n",
    "\n",
    "# Create a group of peekers to monitor the top-level buses.\n",
    "# Each argument to PeekerGroup assigns a signal to a name for a peeker.\n",
    "top_pkr = PeekerGroup(a_bus=a, b_bus=b, sum_bus=sum_)\n",
    "\n",
    "# Create a testbench generator that applies random inputs to the adder.\n",
    "from random import randrange\n",
    "def test():\n",
    "    for _ in range(8):\n",
    "        a.next, b.next = randrange(0, a.max), randrange(0, a.max)\n",
    "        yield delay(1)\n",
    "\n",
    "# Simulate the adder, testbench and peekers.\n",
    "Simulation(add_1, test(), *Peeker.instances()).run()\n",
    "\n",
    "# Display only the peekers for the top-level buses.\n",
    "# The global peekers in the adder bits won't show up.\n",
    "top_pkr.to_wavedrom('a_bus b_bus sum_bus')\n",
    "top_pkr.to_html_table('a_bus b_bus sum_bus')"
   ]
  }
 ],
 "metadata": {
  "kernelspec": {
   "display_name": "Python 3",
   "language": "python",
   "name": "python3"
  },
  "language_info": {
   "codemirror_mode": {
    "name": "ipython",
    "version": 3
   },
   "file_extension": ".py",
   "mimetype": "text/x-python",
   "name": "python",
   "nbconvert_exporter": "python",
   "pygments_lexer": "ipython3",
   "version": "3.5.2"
  }
 },
 "nbformat": 4,
 "nbformat_minor": 2
}
