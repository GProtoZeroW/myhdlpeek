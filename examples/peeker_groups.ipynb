{
 "cells": [
  {
   "cell_type": "markdown",
   "metadata": {
    "toc": true
   },
   "source": [
    "<h1>Table of Contents<span class=\"tocSkip\"></span></h1>\n",
    "<div class=\"toc\"><ul class=\"toc-item\"><li><span><a href=\"#Peeker-Groups\" data-toc-modified-id=\"Peeker-Groups-1\"><span class=\"toc-item-num\">1&nbsp;&nbsp;</span>Peeker Groups</a></span></li></ul></div>"
   ]
  },
  {
   "cell_type": "markdown",
   "metadata": {},
   "source": [
    "# Peeker Groups\n",
    "\n",
    "`Peeker` objects are normally stored in a global list, but sometimes you might want\n",
    "to create a group of `Peeker`s for a set of signals.\n",
    "This is easily done using the `PeekerGroup` class.\n",
    "Once again, I'll use the hierarchical adder example to illustrate the use of `PeekerGroup`s."
   ]
  },
  {
   "cell_type": "code",
   "execution_count": 1,
   "metadata": {
    "ExecuteTime": {
     "end_time": "2020-12-12T18:16:03.712426Z",
     "start_time": "2020-12-12T18:16:02.764459Z"
    }
   },
   "outputs": [
    {
     "name": "stderr",
     "output_type": "stream",
     "text": [
      "<class 'myhdl.StopSimulation'>: No more events\n"
     ]
    },
    {
     "data": {
      "text/html": [
       "<table>\n",
       "<thead>\n",
       "<tr><th style=\"text-align: right;\">  Time</th><th style=\"text-align: right;\">  a_bus</th><th style=\"text-align: right;\">  b_bus</th><th style=\"text-align: right;\">  sum_bus</th></tr>\n",
       "</thead>\n",
       "<tbody>\n",
       "<tr><td style=\"text-align: right;\">     0</td><td style=\"text-align: right;\">      7</td><td style=\"text-align: right;\">      4</td><td style=\"text-align: right;\">        3</td></tr>\n",
       "<tr><td style=\"text-align: right;\">     1</td><td style=\"text-align: right;\">      2</td><td style=\"text-align: right;\">      7</td><td style=\"text-align: right;\">        1</td></tr>\n",
       "<tr><td style=\"text-align: right;\">     2</td><td style=\"text-align: right;\">      5</td><td style=\"text-align: right;\">      0</td><td style=\"text-align: right;\">        5</td></tr>\n",
       "<tr><td style=\"text-align: right;\">     3</td><td style=\"text-align: right;\">      2</td><td style=\"text-align: right;\">      0</td><td style=\"text-align: right;\">        2</td></tr>\n",
       "<tr><td style=\"text-align: right;\">     4</td><td style=\"text-align: right;\">      6</td><td style=\"text-align: right;\">      2</td><td style=\"text-align: right;\">        0</td></tr>\n",
       "<tr><td style=\"text-align: right;\">     5</td><td style=\"text-align: right;\">      5</td><td style=\"text-align: right;\">      4</td><td style=\"text-align: right;\">        1</td></tr>\n",
       "<tr><td style=\"text-align: right;\">     6</td><td style=\"text-align: right;\">      6</td><td style=\"text-align: right;\">      1</td><td style=\"text-align: right;\">        7</td></tr>\n",
       "<tr><td style=\"text-align: right;\">     7</td><td style=\"text-align: right;\">      0</td><td style=\"text-align: right;\">      7</td><td style=\"text-align: right;\">        7</td></tr>\n",
       "</tbody>\n",
       "</table>"
      ]
     },
     "metadata": {},
     "output_type": "display_data"
    }
   ],
   "source": [
    "from myhdl import *\n",
    "from myhdlpeek import Peeker, PeekerGroup\n",
    "\n",
    "def adder_bit(a, b, c_in, sum_, c_out):\n",
    "    '''Single bit adder.'''\n",
    "    @always_comb\n",
    "    def adder_logic():\n",
    "        sum_.next = a ^ b ^ c_in\n",
    "        c_out.next = (a & b) | (a & c_in) | (b & c_in)\n",
    "    \n",
    "    # Add some global peekers to monitor the inputs and outputs.\n",
    "    Peeker(a, 'a')\n",
    "    Peeker(b, 'b')\n",
    "    Peeker(c_in, 'c_in')\n",
    "    Peeker(sum_, 'sum')\n",
    "    Peeker(c_out, 'c_out')\n",
    "    return adder_logic\n",
    "\n",
    "def adder(a, b, sum_):\n",
    "    '''Connect single-bit adders to create a complete adder.'''\n",
    "    c = [Signal(bool(0)) for _ in range(len(a)+1)] # Carry signals between stages.\n",
    "    s = [Signal(bool(0)) for _ in range(len(a))] # Sum bit for each stage.\n",
    "    stages = []  # Storage for adder bit instances.\n",
    "    # Create the adder bits and connect them together.\n",
    "    for i in range(len(a)):\n",
    "        stages.append( adder_bit(a=a(i), b=b(i), sum_=s[i], c_in=c[i], c_out=c[i+1]) )\n",
    "    # Concatenate the sum bits and send them out on the sum_ output.\n",
    "    @always_comb\n",
    "    def make_sum():\n",
    "        sum_.next = ConcatSignal(*reversed(s))\n",
    "    return instances()  # Return all the adder stage instances.\n",
    "\n",
    "# Create signals for interfacing to the adder.\n",
    "a, b, sum_ = [Signal(intbv(0,0,8)) for _ in range(3)]\n",
    "\n",
    "# Clear-out any existing peeker stuff before instantiating the adder.\n",
    "Peeker.clear()\n",
    "\n",
    "# Instantiate the adder.\n",
    "add_1 = adder(a=a, b=b, sum_=sum_)\n",
    "\n",
    "# Create a group of peekers to monitor the top-level buses.\n",
    "# Each argument to PeekerGroup assigns a signal to a name for a peeker.\n",
    "top_pkr = PeekerGroup(a_bus=a, b_bus=b, sum_bus=sum_)\n",
    "\n",
    "# Create a testbench generator that applies random inputs to the adder.\n",
    "from random import randrange\n",
    "def test():\n",
    "    for _ in range(8):\n",
    "        a.next, b.next = randrange(0, a.max), randrange(0, a.max)\n",
    "        yield delay(1)\n",
    "\n",
    "# Simulate the adder, testbench and peekers.\n",
    "Simulation(add_1, test(), *Peeker.instances()).run()\n",
    "\n",
    "# Display only the peekers for the top-level buses.\n",
    "# The global peekers in the adder bits won't show up.\n",
    "top_pkr.show_waveforms('a_bus b_bus sum_bus')\n",
    "top_pkr.to_html_table('a_bus b_bus sum_bus')"
   ]
  }
 ],
 "metadata": {
  "kernelspec": {
   "display_name": "Python 3",
   "language": "python",
   "name": "python3"
  },
  "language_info": {
   "codemirror_mode": {
    "name": "ipython",
    "version": 3
   },
   "file_extension": ".py",
   "mimetype": "text/x-python",
   "name": "python",
   "nbconvert_exporter": "python",
   "pygments_lexer": "ipython3",
   "version": "3.8.6"
  },
  "toc": {
   "base_numbering": 1,
   "nav_menu": {},
   "number_sections": true,
   "sideBar": true,
   "skip_h1_title": false,
   "title_cell": "Table of Contents",
   "title_sidebar": "Contents",
   "toc_cell": true,
   "toc_position": {},
   "toc_section_display": true,
   "toc_window_display": false
  }
 },
 "nbformat": 4,
 "nbformat_minor": 2
}
